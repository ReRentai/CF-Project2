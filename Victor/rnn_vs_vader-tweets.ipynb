{
 "cells": [
  {
   "cell_type": "markdown",
   "metadata": {},
   "source": [
    "# Sentiment Analysis - Tweets"
   ]
  },
  {
   "cell_type": "code",
   "execution_count": 1,
   "metadata": {},
   "outputs": [],
   "source": [
    "# Initial imports\n",
    "import pandas as pd\n",
    "import numpy as np\n",
    "from pathlib import Path\n",
    "import tensorflow as tf\n",
    "\n",
    "%matplotlib inline"
   ]
  },
  {
   "cell_type": "code",
   "execution_count": 2,
   "metadata": {},
   "outputs": [],
   "source": [
    "# Set the random seed for reproducibility\n",
    "from numpy.random import seed\n",
    "seed(1)\n",
    "\n",
    "from tensorflow import random\n",
    "random.set_seed(2)"
   ]
  },
  {
   "cell_type": "code",
   "execution_count": 3,
   "metadata": {},
   "outputs": [
    {
     "data": {
      "text/html": [
       "<div>\n",
       "<style scoped>\n",
       "    .dataframe tbody tr th:only-of-type {\n",
       "        vertical-align: middle;\n",
       "    }\n",
       "\n",
       "    .dataframe tbody tr th {\n",
       "        vertical-align: top;\n",
       "    }\n",
       "\n",
       "    .dataframe thead th {\n",
       "        text-align: right;\n",
       "    }\n",
       "</style>\n",
       "<table border=\"1\" class=\"dataframe\">\n",
       "  <thead>\n",
       "    <tr style=\"text-align: right;\">\n",
       "      <th></th>\n",
       "      <th>sentiment</th>\n",
       "      <th>score</th>\n",
       "      <th>tweet</th>\n",
       "    </tr>\n",
       "  </thead>\n",
       "  <tbody>\n",
       "    <tr>\n",
       "      <th>0</th>\n",
       "      <td>1</td>\n",
       "      <td>2.726316</td>\n",
       "      <td>Somehow I was blessed with some really amazing...</td>\n",
       "    </tr>\n",
       "    <tr>\n",
       "      <th>1</th>\n",
       "      <td>1</td>\n",
       "      <td>1.443299</td>\n",
       "      <td>Yay. Another good phone interview.</td>\n",
       "    </tr>\n",
       "    <tr>\n",
       "      <th>2</th>\n",
       "      <td>1</td>\n",
       "      <td>2.873684</td>\n",
       "      <td>We were 17 deep last night amp the love was so...</td>\n",
       "    </tr>\n",
       "    <tr>\n",
       "      <th>3</th>\n",
       "      <td>1</td>\n",
       "      <td>2.857143</td>\n",
       "      <td>LMAO, AMAZING!</td>\n",
       "    </tr>\n",
       "    <tr>\n",
       "      <th>4</th>\n",
       "      <td>0</td>\n",
       "      <td>-2.154639</td>\n",
       "      <td>Two words that should die this year: Sexting a...</td>\n",
       "    </tr>\n",
       "    <tr>\n",
       "      <th>5</th>\n",
       "      <td>1</td>\n",
       "      <td>2.510870</td>\n",
       "      <td>Today I'm grateful for good food, good wine an...</td>\n",
       "    </tr>\n",
       "    <tr>\n",
       "      <th>6</th>\n",
       "      <td>0</td>\n",
       "      <td>-1.360825</td>\n",
       "      <td>Damn, running late sucks.</td>\n",
       "    </tr>\n",
       "    <tr>\n",
       "      <th>7</th>\n",
       "      <td>1</td>\n",
       "      <td>0.131313</td>\n",
       "      <td>Opal Divine's with the FSN crew.</td>\n",
       "    </tr>\n",
       "    <tr>\n",
       "      <th>8</th>\n",
       "      <td>0</td>\n",
       "      <td>-1.773196</td>\n",
       "      <td>Ugh. I hate hate hate getting blood drawn.</td>\n",
       "    </tr>\n",
       "    <tr>\n",
       "      <th>9</th>\n",
       "      <td>1</td>\n",
       "      <td>2.724490</td>\n",
       "      <td>Love love love that I just hung with @anonymou...</td>\n",
       "    </tr>\n",
       "  </tbody>\n",
       "</table>\n",
       "</div>"
      ],
      "text/plain": [
       "   sentiment     score                                              tweet\n",
       "0          1  2.726316  Somehow I was blessed with some really amazing...\n",
       "1          1  1.443299                 Yay. Another good phone interview.\n",
       "2          1  2.873684  We were 17 deep last night amp the love was so...\n",
       "3          1  2.857143                                     LMAO, AMAZING!\n",
       "4          0 -2.154639  Two words that should die this year: Sexting a...\n",
       "5          1  2.510870  Today I'm grateful for good food, good wine an...\n",
       "6          0 -1.360825                          Damn, running late sucks.\n",
       "7          1  0.131313                   Opal Divine's with the FSN crew.\n",
       "8          0 -1.773196         Ugh. I hate hate hate getting blood drawn.\n",
       "9          1  2.724490  Love love love that I just hung with @anonymou..."
      ]
     },
     "execution_count": 3,
     "metadata": {},
     "output_type": "execute_result"
    }
   ],
   "source": [
    "# Load the dataset\n",
    "file_path = Path(\"tweets_cleaned.csv\")\n",
    "df_tweets = pd.read_csv(file_path)\n",
    "df_tweets.head(10)"
   ]
  },
  {
   "cell_type": "markdown",
   "metadata": {},
   "source": [
    "Create the features set `X` and the target vector `y` by assigning the `tweet` column to `X` and the `sentiment` column to `y`."
   ]
  },
  {
   "cell_type": "code",
   "execution_count": 4,
   "metadata": {},
   "outputs": [],
   "source": [
    "# Create the features set (X) and the target vector (y)\n",
    "X = df_tweets[\"tweet\"].values\n",
    "y = df_tweets[\"sentiment\"].values"
   ]
  },
  {
   "cell_type": "markdown",
   "metadata": {},
   "source": [
    "Use the `train_test_split` method from `sklearn` to create the training, testing, and validation sets."
   ]
  },
  {
   "cell_type": "code",
   "execution_count": 5,
   "metadata": {},
   "outputs": [],
   "source": [
    "# Create the train, test, and validation sets\n",
    "from sklearn.model_selection import train_test_split\n",
    "\n",
    "X_train, X_test, y_train, y_test = train_test_split(X, y)\n",
    "\n",
    "X_train, X_val, y_train, y_val = train_test_split(X_train, y_train)"
   ]
  },
  {
   "cell_type": "markdown",
   "metadata": {},
   "source": [
    "## Scoring Sentiment Using VADER\n",
    "\n",
    "In this section, you will use VADER sentiment from the `nltk` library to score the sentiment of the testing set. Later, you will assess model performance using metrics such as accuracy, precision, recall, among others."
   ]
  },
  {
   "cell_type": "code",
   "execution_count": 6,
   "metadata": {},
   "outputs": [],
   "source": [
    "# Import the libraries for sentiment scoring using Vader\n",
    "import nltk\n",
    "from nltk.sentiment.vader import SentimentIntensityAnalyzer"
   ]
  },
  {
   "cell_type": "markdown",
   "metadata": {},
   "source": [
    "Start by downloading or updating the VADER lexicon."
   ]
  },
  {
   "cell_type": "code",
   "execution_count": 7,
   "metadata": {},
   "outputs": [
    {
     "name": "stderr",
     "output_type": "stream",
     "text": [
      "[nltk_data] Downloading package vader_lexicon to\n",
      "[nltk_data]     C:\\Users\\Victor\\AppData\\Roaming\\nltk_data...\n",
      "[nltk_data]   Package vader_lexicon is already up-to-date!\n"
     ]
    },
    {
     "data": {
      "text/plain": [
       "True"
      ]
     },
     "execution_count": 7,
     "metadata": {},
     "output_type": "execute_result"
    }
   ],
   "source": [
    "# Download/Update the VADER Lexicon\n",
    "nltk.download('vader_lexicon')"
   ]
  },
  {
   "cell_type": "markdown",
   "metadata": {},
   "source": [
    "Create an instance of the `SentimentIntensityAnalyzer` and name it `analyzer`."
   ]
  },
  {
   "cell_type": "code",
   "execution_count": 8,
   "metadata": {},
   "outputs": [],
   "source": [
    "# Initialize the VADER sentiment analyzer\n",
    "analyzer = SentimentIntensityAnalyzer()"
   ]
  },
  {
   "cell_type": "markdown",
   "metadata": {},
   "source": [
    "Define two lists to store the sentiment scoring results as follows:\n",
    "\n",
    "* `y_vader_pred` will save the scored sentiment, `1` for positive or `0` for negative.\n",
    "\n",
    "* `y_vader_prob` will store the normalized value of the `pos` polarity score."
   ]
  },
  {
   "cell_type": "code",
   "execution_count": 9,
   "metadata": {},
   "outputs": [],
   "source": [
    "# Define two lists to store vader sentiment scoring\n",
    "y_vader_pred = []\n",
    "y_vader_prob = []"
   ]
  },
  {
   "cell_type": "markdown",
   "metadata": {},
   "source": [
    "Create a `for` loop to iterate across all the comments in the `X` set and score the sentiment of each tweet. Update the two lists for sentiment scores as follows:\n",
    "\n",
    "* Append the `pos` score to the `y_vader_prob`, you will normalize this list's values later.\n",
    "\n",
    "* To score a tweet comment as positive or negative, we will use the `compound` polarity score; as you may remember from the NLP unit, the `compound` score ranges between `-1` (most extreme negative) and `+1` (most extreme positive). Following the recommendations from [this research paper](https://scholar.smu.edu/cgi/viewcontent.cgi?article=1051&context=datasciencereview), we will define a threshold of `0.1` to label a review as positive, if the `compound` score is greater than or equal to `0.1`, the review comment will be positive (append `1` to `y_vader_pred`); if the `compound` score is below `0.1`, the review comment will be negative (append `0` to `y_vader_pred`)."
   ]
  },
  {
   "cell_type": "code",
   "execution_count": 10,
   "metadata": {},
   "outputs": [],
   "source": [
    "# Score sentiment of test set using Vader\n",
    "for comment in X_test:\n",
    "    y_vader_prob.append(analyzer.polarity_scores(comment)[\"pos\"])\n",
    "    sentiment_score = analyzer.polarity_scores(comment)[\"compound\"]\n",
    "    if sentiment_score >= 0.1:\n",
    "        y_vader_pred.append(1)\n",
    "    else:\n",
    "        y_vader_pred.append(0)"
   ]
  },
  {
   "cell_type": "markdown",
   "metadata": {},
   "source": [
    "You will use the values from the `pos` polarity score to plot the ROC curve; we will consider the `pos` score as the probability of a tweetto be positive. To plot the ROC curve, these probabilities should range from `0` to `1`, so the values of the `y_vader_prob` list will be normalized using [min-max normalization](https://en.wikipedia.org/wiki/Feature_scaling#Rescaling_(min-max_normalization)).\n",
    "\n",
    "* Normalize the data stored in the `y_vader_prob` list and save the resulting normalized values in a variable called `y_vader_prob_norm`.\n",
    "\n",
    "_Hint:_ To normalize the data, you can use the `MinMaxScaler` method from `sklearn`, or you can code the min-max normalization formula using a comprehension list."
   ]
  },
  {
   "cell_type": "code",
   "execution_count": 11,
   "metadata": {},
   "outputs": [
    {
     "data": {
      "text/plain": [
       "array([[0.203],\n",
       "       [0.495],\n",
       "       [0.247],\n",
       "       [0.452],\n",
       "       [0.   ]])"
      ]
     },
     "execution_count": 11,
     "metadata": {},
     "output_type": "execute_result"
    }
   ],
   "source": [
    "# Normalizing data using MinMaxScaler from sklearn\n",
    "from sklearn.preprocessing import MinMaxScaler\n",
    "\n",
    "scaler = MinMaxScaler()\n",
    "scaler.fit(np.array(y_vader_prob).reshape(-1,1))\n",
    "y_vader_prob_norm = scaler.transform(np.array(y_vader_prob).reshape(-1,1))\n",
    "y_vader_prob_norm[:5]"
   ]
  },
  {
   "cell_type": "markdown",
   "metadata": {},
   "source": [
    "## Scoring Sentiment Using RNN LSTM\n",
    "\n",
    "In this section, you will build an RNN LSTM model to score the sentiment of the review comments. You will fit the model using the training and validations sets, and finally, you will get some predictions using the testing set for further performance assessment and comparison with VADER."
   ]
  },
  {
   "cell_type": "markdown",
   "metadata": {},
   "source": [
    "Start encoding the review comments using the `Tokenizer` method from Keras."
   ]
  },
  {
   "cell_type": "code",
   "execution_count": 12,
   "metadata": {},
   "outputs": [],
   "source": [
    "# Import the Tokenizer method from Keras\n",
    "from tensorflow.keras.preprocessing.text import Tokenizer"
   ]
  },
  {
   "cell_type": "markdown",
   "metadata": {},
   "source": [
    "Create an instance of the `Tokenizer`, and fit it with all the tweets that you stored in `X`."
   ]
  },
  {
   "cell_type": "code",
   "execution_count": 13,
   "metadata": {},
   "outputs": [],
   "source": [
    "# Create an instance of the Tokenizer and fit it with the X text data\n",
    "tokenizer = Tokenizer(lower=True)\n",
    "tokenizer.fit_on_texts(X)"
   ]
  },
  {
   "cell_type": "markdown",
   "metadata": {},
   "source": [
    "For testing proposes, print the first five elements of the encoded vocabulary created with the `Tokenizer`."
   ]
  },
  {
   "cell_type": "code",
   "execution_count": 14,
   "metadata": {},
   "outputs": [
    {
     "name": "stdout",
     "output_type": "stream",
     "text": [
      "word: 'anonymous', token: 1\n",
      "word: 'the', token: 2\n",
      "word: 'i', token: 3\n",
      "word: 'to', token: 4\n",
      "word: 'a', token: 5\n"
     ]
    }
   ],
   "source": [
    "# Print the first five elements of the encoded vocabulary\n",
    "for token in list(tokenizer.word_index)[:5]:\n",
    "    print(f\"word: '{token}', token: {tokenizer.word_index[token]}\")"
   ]
  },
  {
   "cell_type": "markdown",
   "metadata": {},
   "source": [
    "To fit the RNN LSTM model for sentiment scoring, the text data in `X` should be encoded as sequences. Use the `text_to_sequence()` method of the `tokenizer` to transform the text data to numerical sequences and save the sequences in a variable called `X_seq`."
   ]
  },
  {
   "cell_type": "code",
   "execution_count": 15,
   "metadata": {},
   "outputs": [],
   "source": [
    "# Transform the text data to numerical sequences\n",
    "X_seq = tokenizer.texts_to_sequences(X)"
   ]
  },
  {
   "cell_type": "markdown",
   "metadata": {},
   "source": [
    "For testing proposes, compare the text representation of a tweet with its numerical representation, by printing the first text tweet in `X` and the first encoded element in `X_seq`."
   ]
  },
  {
   "cell_type": "code",
   "execution_count": 16,
   "metadata": {},
   "outputs": [
    {
     "name": "stdout",
     "output_type": "stream",
     "text": [
      "**Text comment**\n",
      "{\"Somehow I was blessed with some really amazing friends in my life who love me and send encouragement when I'm not feeling awesome. So lucky.\"}\n"
     ]
    }
   ],
   "source": [
    "# Contrast a sample numerical sequence with its text version\n",
    "print(\"**Text comment**\")\n",
    "print({X[0]})"
   ]
  },
  {
   "cell_type": "code",
   "execution_count": 17,
   "metadata": {},
   "outputs": [
    {
     "name": "stdout",
     "output_type": "stream",
     "text": [
      "**Numerical sequence representation**\n",
      "[1347, 3, 27, 1348, 19, 73, 71, 107, 175, 14, 16, 164, 101, 31, 25, 6, 326, 2235, 67, 30, 34, 207, 79, 26, 429]\n"
     ]
    }
   ],
   "source": [
    "print(\"**Numerical sequence representation**\")\n",
    "print(X_seq[0])"
   ]
  },
  {
   "cell_type": "markdown",
   "metadata": {},
   "source": [
    "Recall that RNN LSTM models need equal size inputs, so that, pad the sequences stored in `X_pad` up to `16` integers using the `pad_sequences` method from Keras. Store the pad size in a variable called `max_words`.\n",
    "\n",
    "**Note:** You may use a bigger padding size; however, using a bigger value will increase the time that takes fitting the RNN LSTM model."
   ]
  },
  {
   "cell_type": "code",
   "execution_count": 18,
   "metadata": {},
   "outputs": [],
   "source": [
    "# Import the pad_sequences method from Keras\n",
    "from tensorflow.keras.preprocessing.sequence import pad_sequences"
   ]
  },
  {
   "cell_type": "code",
   "execution_count": 19,
   "metadata": {},
   "outputs": [],
   "source": [
    "# Set the pad size\n",
    "max_words = 16\n",
    "\n",
    "# Pad the sequences using the pad_sequences() method\n",
    "X_pad = pad_sequences(X_seq, maxlen=max_words, padding=\"post\")"
   ]
  },
  {
   "cell_type": "markdown",
   "metadata": {},
   "source": [
    "### Create the Training, Validation, and Testing Sets\n",
    "\n",
    "You need to create suitable training, validation, and testing sets for fitting and testing the RNN LSTM model using the encoded tweets. Use the `train_test_split` method from `sklearn` to create these sets."
   ]
  },
  {
   "cell_type": "code",
   "execution_count": 20,
   "metadata": {},
   "outputs": [],
   "source": [
    "# Creating training, validation, and testing sets using the encoded data\n",
    "X_train_rnn, X_test_rnn, y_train_rnn, y_test_rnn = train_test_split(X_pad, y)\n",
    "\n",
    "X_train_rnn, X_val_rnn, y_train_rnn, y_val_rnn = train_test_split(X_train_rnn, y_train_rnn)"
   ]
  },
  {
   "cell_type": "markdown",
   "metadata": {},
   "source": [
    "### Build and Train the RNN LSTM Model\n",
    "\n",
    "Remember that we use `Embedding` layers to analyze text data in RNN LSTM models, so this section starts by setting-up some initial variables needed for the RNN LSTM to score sentiment.\n",
    "\n",
    "As it's defined in the [Embedding layer documentation of the Keras API](https://www.tensorflow.org/api_docs/python/tf/keras/layers/Embedding?version=stable), you should set the `input_dim` parameter to the size of your vocabulary, so we set the `vocabulary_size` variable to the length of the number of words in the `tokenizer` plus `1`.\n",
    "\n",
    "Also, we define a variable called `embedding_size` to specify how many dimensions will be used to represent each word."
   ]
  },
  {
   "cell_type": "code",
   "execution_count": 21,
   "metadata": {},
   "outputs": [],
   "source": [
    "# Import Keras modules for model creation\n",
    "from tensorflow.keras.models import Sequential\n",
    "from tensorflow.keras.layers import Embedding, LSTM, Dense"
   ]
  },
  {
   "cell_type": "code",
   "execution_count": 22,
   "metadata": {},
   "outputs": [],
   "source": [
    "# Model set-up\n",
    "vocabulary_size = len(tokenizer.word_counts.keys()) + 1\n",
    "embedding_size = 32"
   ]
  },
  {
   "cell_type": "markdown",
   "metadata": {},
   "source": [
    "Define an RNN LSTM model as follows:\n",
    "\n",
    "* _Layer 1:_ Add an `Embedding` layer using the `vocabulary_size` and `embedding_size` variables as the first two parameters, and setting `input_length=max_words` (the same size as the padding).\n",
    "\n",
    "* _Layer 2:_ Add an LSTM layer with `32` units.\n",
    "\n",
    "* _Output Layer:_ Add a `Dense` layer with `1` unit and `sigmoid` as activation function."
   ]
  },
  {
   "cell_type": "code",
   "execution_count": 23,
   "metadata": {},
   "outputs": [],
   "source": [
    "# Define the LSTM RNN model\n",
    "model = Sequential()\n",
    "\n",
    "# Layer 1\n",
    "model.add(Embedding(vocabulary_size, embedding_size, input_length=max_words))\n",
    "\n",
    "# Layer 2\n",
    "model.add(LSTM(units=32))\n",
    "\n",
    "# Output layer\n",
    "model.add(Dense(units=1, activation=\"sigmoid\"))"
   ]
  },
  {
   "cell_type": "markdown",
   "metadata": {},
   "source": [
    "Compile the model using the `binary_crossentropy` loss function, the `adam` optimizer, and fetch the following metrics: Accuracy, True positives, True negatives, False positives, False negatives, Precision, Recall, and AUC."
   ]
  },
  {
   "cell_type": "code",
   "execution_count": 24,
   "metadata": {},
   "outputs": [],
   "source": [
    "# Compile the model\n",
    "model.compile(\n",
    "    loss=\"binary_crossentropy\",\n",
    "    optimizer=\"adam\",\n",
    "    metrics=[\n",
    "        \"accuracy\",\n",
    "        tf.keras.metrics.TruePositives(name=\"tp\"),\n",
    "        tf.keras.metrics.TrueNegatives(name=\"tn\"),\n",
    "        tf.keras.metrics.FalsePositives(name=\"fp\"),\n",
    "        tf.keras.metrics.FalseNegatives(name=\"fn\"),\n",
    "        tf.keras.metrics.Precision(name=\"precision\"),\n",
    "        tf.keras.metrics.Recall(name=\"recall\"),\n",
    "        tf.keras.metrics.AUC(name=\"auc\"),\n",
    "    ],\n",
    ")"
   ]
  },
  {
   "cell_type": "markdown",
   "metadata": {},
   "source": [
    "Display the summary of the model using the `summary` method of the model."
   ]
  },
  {
   "cell_type": "code",
   "execution_count": 25,
   "metadata": {},
   "outputs": [
    {
     "name": "stdout",
     "output_type": "stream",
     "text": [
      "Model: \"sequential\"\n",
      "_________________________________________________________________\n",
      "Layer (type)                 Output Shape              Param #   \n",
      "=================================================================\n",
      "embedding (Embedding)        (None, 16, 32)            297472    \n",
      "_________________________________________________________________\n",
      "lstm (LSTM)                  (None, 32)                8320      \n",
      "_________________________________________________________________\n",
      "dense (Dense)                (None, 1)                 33        \n",
      "=================================================================\n",
      "Total params: 305,825\n",
      "Trainable params: 305,825\n",
      "Non-trainable params: 0\n",
      "_________________________________________________________________\n"
     ]
    }
   ],
   "source": [
    "# Show model summary\n",
    "model.summary()"
   ]
  },
  {
   "cell_type": "markdown",
   "metadata": {},
   "source": [
    "Train the RNN LSTM model using a batch size equals to `1` and ten epochs. Remember to set the `validation_data` parameter to use your validation sets."
   ]
  },
  {
   "cell_type": "code",
   "execution_count": 26,
   "metadata": {},
   "outputs": [
    {
     "name": "stdout",
     "output_type": "stream",
     "text": [
      "Epoch 1/10\n",
      "2362/2362 [==============================] - 34s 12ms/step - loss: 0.5957 - accuracy: 0.7058 - tp: 723.5286 - tn: 122.2463 - fp: 282.1240 - fn: 54.1007 - precision: 0.7090 - recall: 0.9518 - auc: 0.6351 - val_loss: 0.4307 - val_accuracy: 0.7792 - val_tp: 451.0000 - val_tn: 163.0000 - val_fp: 105.0000 - val_fn: 69.0000 - val_precision: 0.8112 - val_recall: 0.8673 - val_auc: 0.8664\n",
      "Epoch 2/10\n",
      "2362/2362 [==============================] - 26s 11ms/step - loss: 0.2237 - accuracy: 0.9239 - tp: 739.1536 - tn: 351.8333 - fp: 56.1799 - fn: 34.8328 - precision: 0.9295 - recall: 0.9536 - auc: 0.9627 - val_loss: 0.4510 - val_accuracy: 0.7995 - val_tp: 458.0000 - val_tn: 172.0000 - val_fp: 96.0000 - val_fn: 62.0000 - val_precision: 0.8267 - val_recall: 0.8808 - val_auc: 0.8747\n",
      "Epoch 3/10\n",
      "2362/2362 [==============================] - 27s 11ms/step - loss: 0.0837 - accuracy: 0.9741 - tp: 755.3999 - tn: 397.7148 - fp: 19.5032 - fn: 9.3817 - precision: 0.9720 - recall: 0.9879 - auc: 0.9914 - val_loss: 0.6554 - val_accuracy: 0.7919 - val_tp: 440.0000 - val_tn: 184.0000 - val_fp: 84.0000 - val_fn: 80.0000 - val_precision: 0.8397 - val_recall: 0.8462 - val_auc: 0.8661\n",
      "Epoch 4/10\n",
      "2362/2362 [==============================] - 27s 11ms/step - loss: 0.0364 - accuracy: 0.9905 - tp: 761.2670 - tn: 407.2357 - fp: 6.6166 - fn: 6.8802 - precision: 0.9921 - recall: 0.9916 - auc: 0.9975 - val_loss: 0.6260 - val_accuracy: 0.7881 - val_tp: 450.0000 - val_tn: 171.0000 - val_fp: 97.0000 - val_fn: 70.0000 - val_precision: 0.8227 - val_recall: 0.8654 - val_auc: 0.8596\n",
      "Epoch 5/10\n",
      "2362/2362 [==============================] - 27s 11ms/step - loss: 0.0204 - accuracy: 0.9934 - tp: 770.0838 - tn: 403.0288 - fp: 5.3106 - fn: 3.5764 - precision: 0.9935 - recall: 0.9964 - auc: 0.9975 - val_loss: 0.9232 - val_accuracy: 0.7957 - val_tp: 466.0000 - val_tn: 161.0000 - val_fp: 107.0000 - val_fn: 54.0000 - val_precision: 0.8133 - val_recall: 0.8962 - val_auc: 0.8310.4547 - f\n",
      "Epoch 6/10\n",
      "2362/2362 [==============================] - 26s 11ms/step - loss: 0.0143 - accuracy: 0.9934 - tp: 760.5154 - tn: 414.2298 - fp: 3.7461 - fn: 3.5083 - precision: 0.9941 - recall: 0.9956 - auc: 0.9969 - val_loss: 1.0851 - val_accuracy: 0.7919 - val_tp: 451.0000 - val_tn: 173.0000 - val_fp: 95.0000 - val_fn: 69.0000 - val_precision: 0.8260 - val_recall: 0.8673 - val_auc: 0.7995\n",
      "Epoch 7/10\n",
      "2362/2362 [==============================] - 26s 11ms/step - loss: 0.0119 - accuracy: 0.9961 - tp: 778.9632 - tn: 397.9285 - fp: 2.4063 - fn: 2.7017 - precision: 0.9973 - recall: 0.9968 - auc: 0.9968 - val_loss: 1.0051 - val_accuracy: 0.7944 - val_tp: 460.0000 - val_tn: 166.0000 - val_fp: 102.0000 - val_fn: 60.0000 - val_precision: 0.8185 - val_recall: 0.8846 - val_auc: 0.8222\n",
      "Epoch 8/10\n",
      "2362/2362 [==============================] - 26s 11ms/step - loss: 0.0037 - accuracy: 0.9997 - tp: 780.1913 - tn: 401.2645 - fp: 0.0000e+00 - fn: 0.5438 - precision: 1.0000 - recall: 0.9995 - auc: 0.9993 - val_loss: 1.2080 - val_accuracy: 0.7881 - val_tp: 446.0000 - val_tn: 175.0000 - val_fp: 93.0000 - val_fn: 74.0000 - val_precision: 0.8275 - val_recall: 0.8577 - val_auc: 0.7979\n",
      "Epoch 9/10\n",
      "2362/2362 [==============================] - 26s 11ms/step - loss: 1.2874e-04 - accuracy: 1.0000 - tp: 771.8578 - tn: 410.1418 - fp: 0.0000e+00 - fn: 0.0000e+00 - precision: 1.0000 - recall: 1.0000 - auc: 0.9996 - val_loss: 1.5188 - val_accuracy: 0.7843 - val_tp: 438.0000 - val_tn: 180.0000 - val_fp: 88.0000 - val_fn: 82.0000 - val_precision: 0.8327 - val_recall: 0.8423 - val_auc: 0.7907\n",
      "Epoch 10/10\n",
      "2362/2362 [==============================] - 27s 11ms/step - loss: 3.1474e-05 - accuracy: 1.0000 - tp: 765.1570 - tn: 416.8426 - fp: 0.0000e+00 - fn: 0.0000e+00 - precision: 1.0000 - recall: 1.0000 - auc: 0.9996 - val_loss: 1.7456 - val_accuracy: 0.7817 - val_tp: 437.0000 - val_tn: 179.0000 - val_fp: 89.0000 - val_fn: 83.0000 - val_precision: 0.8308 - val_recall: 0.8404 - val_auc: 0.7822\n"
     ]
    },
    {
     "data": {
      "text/plain": [
       "<tensorflow.python.keras.callbacks.History at 0x24c9f2656c8>"
      ]
     },
     "execution_count": 26,
     "metadata": {},
     "output_type": "execute_result"
    }
   ],
   "source": [
    "# Training the model\n",
    "batch_size = 1\n",
    "epochs = 10\n",
    "model.fit(\n",
    "    X_train_rnn,\n",
    "    y_train_rnn,\n",
    "    validation_data=(X_val_rnn, y_val_rnn),\n",
    "    epochs=epochs,\n",
    "    batch_size=batch_size,\n",
    "    verbose=1,\n",
    ")"
   ]
  },
  {
   "cell_type": "markdown",
   "metadata": {},
   "source": [
    "Use the `predict_classes` method of your model to score the sentiment setting `batch_size=1`."
   ]
  },
  {
   "cell_type": "code",
   "execution_count": 27,
   "metadata": {},
   "outputs": [
    {
     "name": "stderr",
     "output_type": "stream",
     "text": [
      "C:\\Users\\Victor\\anaconda3\\envs\\dlenv\\lib\\site-packages\\tensorflow\\python\\keras\\engine\\sequential.py:450: UserWarning: `model.predict_classes()` is deprecated and will be removed after 2021-01-01. Please use instead:* `np.argmax(model.predict(x), axis=-1)`,   if your model does multi-class classification   (e.g. if it uses a `softmax` last-layer activation).* `(model.predict(x) > 0.5).astype(\"int32\")`,   if your model does binary classification   (e.g. if it uses a `sigmoid` last-layer activation).\n",
      "  warnings.warn('`model.predict_classes()` is deprecated and '\n"
     ]
    }
   ],
   "source": [
    "# Predict classes using the testing data\n",
    "y_rnn_pred = model.predict_classes(X_test_rnn, batch_size=1)"
   ]
  },
  {
   "cell_type": "code",
   "execution_count": 57,
   "metadata": {},
   "outputs": [],
   "source": [
    "# save the model\n",
    "model.save('rnn_model.h5')\n",
    "del model"
   ]
  },
  {
   "cell_type": "code",
   "execution_count": 58,
   "metadata": {},
   "outputs": [],
   "source": [
    "#load the model\n",
    "from tensorflow.keras.models import load_model\n",
    "model = load_model('rnn_model.h5')"
   ]
  },
  {
   "cell_type": "markdown",
   "metadata": {},
   "source": [
    "## Models Comparison\n",
    "\n",
    "In this section, you will assess the performance of VADER and the RNN LSTM to score sentiment to decide which one is better."
   ]
  },
  {
   "cell_type": "markdown",
   "metadata": {},
   "source": [
    "### Accuracy\n",
    "\n",
    "Use the `accuracy_score` method from `sklearn` to calculate the accuracy of each model. Display the results for further analysis."
   ]
  },
  {
   "cell_type": "code",
   "execution_count": 59,
   "metadata": {},
   "outputs": [
    {
     "name": "stdout",
     "output_type": "stream",
     "text": [
      "Vader Accuracy: 0.93714\n",
      "RNN LSTM Accuracy 0.77810\n"
     ]
    }
   ],
   "source": [
    "# Accuracy\n",
    "from sklearn.metrics import accuracy_score\n",
    "\n",
    "print(\"Vader Accuracy: %.5f\" % (accuracy_score(y_test, y_vader_pred)))\n",
    "print(\"RNN LSTM Accuracy %.5f\" % (accuracy_score(y_test_rnn, y_rnn_pred)))"
   ]
  },
  {
   "cell_type": "markdown",
   "metadata": {},
   "source": [
    "### Confusion Matrix\n",
    "\n",
    "Scoring the sentiment of the tweets as positive or negative is a binary classification problem, so use the `confusion_matrix` method from `sklearn` to calculate the confusion matrix for VADER and the RNN LSTM model."
   ]
  },
  {
   "cell_type": "code",
   "execution_count": 60,
   "metadata": {},
   "outputs": [],
   "source": [
    "# Import the confusion_matrix method from sklearn\n",
    "from sklearn.metrics import confusion_matrix"
   ]
  },
  {
   "cell_type": "markdown",
   "metadata": {},
   "source": [
    "#### Confusion matrix for VADER\n",
    "\n",
    "Create the confusion matrix for vader passing the `y_test` and `y_vader_pred` variables as parameters."
   ]
  },
  {
   "cell_type": "code",
   "execution_count": 61,
   "metadata": {},
   "outputs": [
    {
     "name": "stdout",
     "output_type": "stream",
     "text": [
      "Confusion Matrix from Vader\n"
     ]
    },
    {
     "data": {
      "text/html": [
       "<div>\n",
       "<style scoped>\n",
       "    .dataframe tbody tr th:only-of-type {\n",
       "        vertical-align: middle;\n",
       "    }\n",
       "\n",
       "    .dataframe tbody tr th {\n",
       "        vertical-align: top;\n",
       "    }\n",
       "\n",
       "    .dataframe thead th {\n",
       "        text-align: right;\n",
       "    }\n",
       "</style>\n",
       "<table border=\"1\" class=\"dataframe\">\n",
       "  <thead>\n",
       "    <tr style=\"text-align: right;\">\n",
       "      <th>Predicted</th>\n",
       "      <th>Positive(1)</th>\n",
       "      <th>Negative(0)</th>\n",
       "    </tr>\n",
       "    <tr>\n",
       "      <th>Actual</th>\n",
       "      <th></th>\n",
       "      <th></th>\n",
       "    </tr>\n",
       "  </thead>\n",
       "  <tbody>\n",
       "    <tr>\n",
       "      <th>Positive(1)</th>\n",
       "      <td>TP=663</td>\n",
       "      <td>FN=37</td>\n",
       "    </tr>\n",
       "    <tr>\n",
       "      <th>Negative(0)</th>\n",
       "      <td>FP=29</td>\n",
       "      <td>TN=321</td>\n",
       "    </tr>\n",
       "  </tbody>\n",
       "</table>\n",
       "</div>"
      ],
      "text/plain": [
       "Predicted   Positive(1) Negative(0)\n",
       "Actual                             \n",
       "Positive(1)      TP=663       FN=37\n",
       "Negative(0)       FP=29      TN=321"
      ]
     },
     "metadata": {},
     "output_type": "display_data"
    }
   ],
   "source": [
    "# Confusion matrtix metrics from Vader\n",
    "tn_vader, fp_vader, fn_vader, tp_vader = confusion_matrix(y_test, y_vader_pred).ravel()\n",
    "\n",
    "# Dataframe to display confusion matrix from Vader\n",
    "cm_vader_df = pd.DataFrame(\n",
    "    {\n",
    "        \"Positive(1)\": [f\"TP={tp_vader}\", f\"FP={fp_vader}\"],\n",
    "        \"Negative(0)\": [f\"FN={fn_vader}\", f\"TN={tn_vader}\"],\n",
    "    },\n",
    "    index=[\"Positive(1)\", \"Negative(0)\"],\n",
    ")\n",
    "cm_vader_df.index.name = \"Actual\"\n",
    "cm_vader_df.columns.name = \"Predicted\"\n",
    "print(\"Confusion Matrix from Vader\")\n",
    "display(cm_vader_df)"
   ]
  },
  {
   "cell_type": "markdown",
   "metadata": {},
   "source": [
    "#### Confusion matrix for the RNN LSTM Model\n",
    "\n",
    "Create the confusion matrix for the RNN LSTM model passing the `y_test_rnn` and `y_rnn_pred` variables as parameters."
   ]
  },
  {
   "cell_type": "code",
   "execution_count": 62,
   "metadata": {},
   "outputs": [
    {
     "name": "stdout",
     "output_type": "stream",
     "text": [
      "Confusion Matrix from the RNN LSTM Model\n"
     ]
    },
    {
     "data": {
      "text/html": [
       "<div>\n",
       "<style scoped>\n",
       "    .dataframe tbody tr th:only-of-type {\n",
       "        vertical-align: middle;\n",
       "    }\n",
       "\n",
       "    .dataframe tbody tr th {\n",
       "        vertical-align: top;\n",
       "    }\n",
       "\n",
       "    .dataframe thead th {\n",
       "        text-align: right;\n",
       "    }\n",
       "</style>\n",
       "<table border=\"1\" class=\"dataframe\">\n",
       "  <thead>\n",
       "    <tr style=\"text-align: right;\">\n",
       "      <th>Predicted</th>\n",
       "      <th>Positive(1)</th>\n",
       "      <th>Negative(0)</th>\n",
       "    </tr>\n",
       "    <tr>\n",
       "      <th>Actual</th>\n",
       "      <th></th>\n",
       "      <th></th>\n",
       "    </tr>\n",
       "  </thead>\n",
       "  <tbody>\n",
       "    <tr>\n",
       "      <th>Positive(1)</th>\n",
       "      <td>TP=599</td>\n",
       "      <td>FN=110</td>\n",
       "    </tr>\n",
       "    <tr>\n",
       "      <th>Negative(0)</th>\n",
       "      <td>FP=123</td>\n",
       "      <td>TN=218</td>\n",
       "    </tr>\n",
       "  </tbody>\n",
       "</table>\n",
       "</div>"
      ],
      "text/plain": [
       "Predicted   Positive(1) Negative(0)\n",
       "Actual                             \n",
       "Positive(1)      TP=599      FN=110\n",
       "Negative(0)      FP=123      TN=218"
      ]
     },
     "metadata": {},
     "output_type": "display_data"
    }
   ],
   "source": [
    "# Confusion matrtix metrics from the RNN LSTM model\n",
    "tn_rnn, fp_rnn, fn_rnn, tp_rnn = confusion_matrix(y_test_rnn, y_rnn_pred).ravel()\n",
    "\n",
    "# Dataframe to display confusion matrix from the RNN LSTM model\n",
    "cm_rnn_df = pd.DataFrame(\n",
    "    {\n",
    "        \"Positive(1)\": [f\"TP={tp_rnn}\", f\"FP={fp_rnn}\"],\n",
    "        \"Negative(0)\": [f\"FN={fn_rnn}\", f\"TN={tn_rnn}\"],\n",
    "    },\n",
    "    index=[\"Positive(1)\", \"Negative(0)\"],\n",
    ")\n",
    "cm_rnn_df.index.name = \"Actual\"\n",
    "cm_rnn_df.columns.name = \"Predicted\"\n",
    "print(\"Confusion Matrix from the RNN LSTM Model\")\n",
    "display(cm_rnn_df)"
   ]
  },
  {
   "cell_type": "markdown",
   "metadata": {},
   "source": [
    "### Classification Report\n",
    "\n",
    "Use the `classification_report` from `sklearn` and generate a report for each model."
   ]
  },
  {
   "cell_type": "code",
   "execution_count": 63,
   "metadata": {},
   "outputs": [],
   "source": [
    "# Import the classification_report method from sklearn\n",
    "from sklearn.metrics import classification_report"
   ]
  },
  {
   "cell_type": "code",
   "execution_count": 64,
   "metadata": {},
   "outputs": [
    {
     "name": "stdout",
     "output_type": "stream",
     "text": [
      "Classification Report for Vader\n",
      "              precision    recall  f1-score   support\n",
      "\n",
      "           0       0.92      0.90      0.91       358\n",
      "           1       0.95      0.96      0.95       692\n",
      "\n",
      "    accuracy                           0.94      1050\n",
      "   macro avg       0.93      0.93      0.93      1050\n",
      "weighted avg       0.94      0.94      0.94      1050\n",
      "\n"
     ]
    }
   ],
   "source": [
    "# Display classification report for Vader\n",
    "print(\"Classification Report for Vader\")\n",
    "print(classification_report(y_vader_pred, y_test))"
   ]
  },
  {
   "cell_type": "code",
   "execution_count": 65,
   "metadata": {},
   "outputs": [
    {
     "name": "stdout",
     "output_type": "stream",
     "text": [
      "Classification Report for the RNN LSTM Model\n",
      "              precision    recall  f1-score   support\n",
      "\n",
      "           0       0.64      0.66      0.65       328\n",
      "           1       0.84      0.83      0.84       722\n",
      "\n",
      "    accuracy                           0.78      1050\n",
      "   macro avg       0.74      0.75      0.74      1050\n",
      "weighted avg       0.78      0.78      0.78      1050\n",
      "\n"
     ]
    }
   ],
   "source": [
    "# Display classification report for the RNN LSTM Model\n",
    "print(\"Classification Report for the RNN LSTM Model\")\n",
    "print(classification_report(y_rnn_pred, y_test_rnn))"
   ]
  },
  {
   "cell_type": "markdown",
   "metadata": {},
   "source": [
    "### Plotting the ROC Curve\n",
    "\n",
    "In this section, you will visually analyze the performance of both models by plotting the ROC Curve. You will use the `roc_curve` and `auc` methods from `sklearn` to gather the data needed to plot this curve."
   ]
  },
  {
   "cell_type": "code",
   "execution_count": 66,
   "metadata": {},
   "outputs": [],
   "source": [
    "# Import the roc_curve and auc metrics from sklearn\n",
    "from sklearn.metrics import roc_curve, auc"
   ]
  },
  {
   "cell_type": "markdown",
   "metadata": {},
   "source": [
    "#### ROC Curve - VADER\n",
    "\n",
    "Use the `roc_curve` method from `sklearn` to calculate the false positives (`fpr`) and true positives (`tpr`) rates passing as parameters the testing target sentiments (`y_test`) and the normalized values of `y_vader_prob` (e.g. `y_vader_prob_norm`)."
   ]
  },
  {
   "cell_type": "code",
   "execution_count": 67,
   "metadata": {},
   "outputs": [],
   "source": [
    "# Data for ROC Curve - VADER\n",
    "fpr_test_vader, tpr_test_vader, thresholds_test_vader = roc_curve(y_test, y_vader_prob_norm)"
   ]
  },
  {
   "cell_type": "markdown",
   "metadata": {},
   "source": [
    "After calculating the `fpr` and `tpr` for VADER, use the `auc` method of `sklearn` to calculate the AUC for VADER. Round the final result up to `4` decimals."
   ]
  },
  {
   "cell_type": "code",
   "execution_count": 68,
   "metadata": {},
   "outputs": [],
   "source": [
    "# AUC for VADER\n",
    "auc_test_vader = auc(fpr_test_vader, tpr_test_vader)\n",
    "auc_test_vader = round(auc_test_vader, 4)"
   ]
  },
  {
   "cell_type": "markdown",
   "metadata": {},
   "source": [
    "Once you gather all the data needed to plot the ROC curve, create a DataFrame with the `fpr` and `tpr` data from VADER."
   ]
  },
  {
   "cell_type": "code",
   "execution_count": 69,
   "metadata": {},
   "outputs": [],
   "source": [
    "# Dataframe to plot ROC Curve for VADER\n",
    "roc_df_test_vader = pd.DataFrame({\"FPR Test\": fpr_test_vader, \"TPR Test\": tpr_test_vader,})"
   ]
  },
  {
   "cell_type": "markdown",
   "metadata": {},
   "source": [
    "Using the `plot()` method of the DataFrame, plot the ROC Curve in red color and show the AUC value in the plot title.\n",
    "\n",
    "_Hint:_ You can pass `xlim=([-0.05, 1.05])` as a parameter to the `plot()` method to better adjust the curve."
   ]
  },
  {
   "cell_type": "code",
   "execution_count": 70,
   "metadata": {},
   "outputs": [
    {
     "data": {
      "text/plain": [
       "<AxesSubplot:title={'center':'Test ROC Curve - Vader (AUC=0.9323)'}, xlabel='FPR Test'>"
      ]
     },
     "execution_count": 70,
     "metadata": {},
     "output_type": "execute_result"
    },
    {
     "data": {
      "image/png": "[encoded data removed]",
      "text/plain": [
       "<Figure size 432x288 with 1 Axes>"
      ]
     },
     "metadata": {
      "needs_background": "light"
     },
     "output_type": "display_data"
    }
   ],
   "source": [
    "roc_df_test_vader.plot(\n",
    "    x=\"FPR Test\",\n",
    "    y=\"TPR Test\",\n",
    "    color=\"red\",\n",
    "    style=\"--\",\n",
    "    xlim=([-0.05, 1.05]),\n",
    "    title=f\"Test ROC Curve - Vader (AUC={auc_test_vader})\",\n",
    ")"
   ]
  },
  {
   "cell_type": "markdown",
   "metadata": {},
   "source": [
    "#### ROC Curve RNN LSTM\n",
    "\n",
    "Use the `predict()` method from the RNN LSTM model to predict the sentiment of the testing data `X_test_rnn`. Set `batch_size=1` to speed up the predictions and store the results in a variable called `test_predictions_rnn`."
   ]
  },
  {
   "cell_type": "code",
   "execution_count": 71,
   "metadata": {},
   "outputs": [],
   "source": [
    "# Making predictions to feed the roc_curve module\n",
    "test_predictions_rnn = model.predict(X_test_rnn, batch_size=1)"
   ]
  },
  {
   "cell_type": "markdown",
   "metadata": {},
   "source": [
    "Use the `roc_curve` method from `sklearn` to calculate the false positives (`fpr`) and true positives (`tpr`) rates passing as parameters the testing target sentiments (`y_test_rnn`) and the predictions you compute using the testing data (`test_predictions_rnn`)."
   ]
  },
  {
   "cell_type": "code",
   "execution_count": 72,
   "metadata": {},
   "outputs": [],
   "source": [
    "# Data for ROC Curve - RNN LSTM Model\n",
    "fpr_test_rnn, tpr_test_rnn, thresholds_test_rnn = roc_curve(y_test_rnn, test_predictions_rnn)"
   ]
  },
  {
   "cell_type": "markdown",
   "metadata": {},
   "source": [
    "After calculating the `fpr` and `tpr` for the RNN LSTM Model, use the `auc` method of `sklearn` to calculate the AUC for this model. Round the final result up to `4` decimals."
   ]
  },
  {
   "cell_type": "code",
   "execution_count": 73,
   "metadata": {},
   "outputs": [],
   "source": [
    "# AUC for the RNN LSTM Model\n",
    "auc_test_rnn = auc(fpr_test_rnn, tpr_test_rnn)\n",
    "auc_test_rnn = round(auc_test_rnn, 4)"
   ]
  },
  {
   "cell_type": "markdown",
   "metadata": {},
   "source": [
    "Once you gather all the data needed to plot the ROC curve, create a DataFrame with the `fpr` and `tpr` data from the RNN LSTM model."
   ]
  },
  {
   "cell_type": "code",
   "execution_count": 74,
   "metadata": {},
   "outputs": [],
   "source": [
    "# Dataframe to plot ROC Curve for the RNN LSTM model\n",
    "roc_df_test_rnn = pd.DataFrame({\"FPR Test\": fpr_test_rnn, \"TPR Test\": tpr_test_rnn,})"
   ]
  },
  {
   "cell_type": "markdown",
   "metadata": {},
   "source": [
    "Using the `plot()` method of the DataFrame, plot the ROC Curve in blue color and show the AUC value in the plot title.\n",
    "\n",
    "_Hint:_ You can pass `xlim=([-0.05, 1.05])` as a parameter to the `plot()` method to better adjust the curve."
   ]
  },
  {
   "cell_type": "code",
   "execution_count": 75,
   "metadata": {},
   "outputs": [
    {
     "data": {
      "text/plain": [
       "<AxesSubplot:title={'center':'Test ROC Curve (AUC=0.844)'}, xlabel='FPR Test'>"
      ]
     },
     "execution_count": 75,
     "metadata": {},
     "output_type": "execute_result"
    },
    {
     "data": {
      "image/png": "[encoded data removed]",
      "text/plain": [
       "<Figure size 432x288 with 1 Axes>"
      ]
     },
     "metadata": {
      "needs_background": "light"
     },
     "output_type": "display_data"
    }
   ],
   "source": [
    "roc_df_test_rnn.plot(\n",
    "    x=\"FPR Test\",\n",
    "    y=\"TPR Test\",\n",
    "    color=\"blue\",\n",
    "    style=\"--\",\n",
    "    xlim=([-0.05, 1.05]),\n",
    "    title=f\"Test ROC Curve (AUC={auc_test_rnn})\",\n",
    ")"
   ]
  },
  {
   "cell_type": "markdown",
   "metadata": {},
   "source": [
    "# SVM"
   ]
  },
  {
   "cell_type": "code",
   "execution_count": 79,
   "metadata": {},
   "outputs": [],
   "source": [
    "from sklearn.feature_extraction.text import TfidfVectorizer\n",
    "from sklearn import svm\n",
    "\n",
    "# Create feature vectors\n",
    "#vectorizer = TfidfVectorizer(min_df = 5,\n",
    "#                             max_df = 0.8,\n",
    "#                             sublinear_tf = True,\n",
    "#                             use_idf = True)\n",
    "vectorizer = TfidfVectorizer(stop_words=\"english\")\n",
    "\n",
    "train_vectors = vectorizer.fit_transform(X_train)\n",
    "test_vectors = vectorizer.transform(X_test)\n",
    "\n",
    "# Perform classification with SVM\n",
    "classifier = svm.SVC(kernel='rbf')\n",
    "classifier.fit(train_vectors, y_train)\n",
    "prediction = classifier.predict(test_vectors)"
   ]
  },
  {
   "cell_type": "code",
   "execution_count": 80,
   "metadata": {},
   "outputs": [
    {
     "name": "stdout",
     "output_type": "stream",
     "text": [
      "Classification Report for Vader\n",
      "              precision    recall  f1-score   support\n",
      "\n",
      "           0       0.41      0.91      0.57       159\n",
      "           1       0.98      0.77      0.86       891\n",
      "\n",
      "    accuracy                           0.79      1050\n",
      "   macro avg       0.70      0.84      0.72      1050\n",
      "weighted avg       0.89      0.79      0.82      1050\n",
      "\n"
     ]
    }
   ],
   "source": [
    "print(\"Classification Report for Vader\")\n",
    "print(classification_report(prediction, y_test))"
   ]
  },
  {
   "cell_type": "code",
   "execution_count": 81,
   "metadata": {},
   "outputs": [],
   "source": [
    "fpr_test_svm, tpr_test_svm, thresholds_test_svm = roc_curve(y_test, prediction)"
   ]
  },
  {
   "cell_type": "code",
   "execution_count": 82,
   "metadata": {},
   "outputs": [],
   "source": [
    "auc_test_svm = auc(fpr_test_svm, tpr_test_svm)\n",
    "auc_test_svm = round(auc_test_svm, 4)"
   ]
  },
  {
   "cell_type": "code",
   "execution_count": 83,
   "metadata": {},
   "outputs": [],
   "source": [
    "roc_df_test_svm = pd.DataFrame({\"FPR Test\": fpr_test_svm, \"TPR Test\": tpr_test_svm,})"
   ]
  },
  {
   "cell_type": "code",
   "execution_count": 84,
   "metadata": {},
   "outputs": [
    {
     "data": {
      "text/plain": [
       "<AxesSubplot:title={'center':'Test ROC Curve (AUC=0.6971)'}, xlabel='FPR Test'>"
      ]
     },
     "execution_count": 84,
     "metadata": {},
     "output_type": "execute_result"
    },
    {
     "data": {
      "image/png": "[encoded data removed]",
      "text/plain": [
       "<Figure size 432x288 with 1 Axes>"
      ]
     },
     "metadata": {
      "needs_background": "light"
     },
     "output_type": "display_data"
    }
   ],
   "source": [
    "roc_df_test_svm.plot(\n",
    "    x=\"FPR Test\",\n",
    "    y=\"TPR Test\",\n",
    "    color=\"blue\",\n",
    "    style=\"--\",\n",
    "    xlim=([-0.05, 1.05]),\n",
    "    title=f\"Test ROC Curve (AUC={auc_test_svm})\",\n",
    ")"
   ]
  },
  {
   "cell_type": "code",
   "execution_count": null,
   "metadata": {},
   "outputs": [],
   "source": []
  }
 ],
 "metadata": {
  "kernelspec": {
   "display_name": "Python 3",
   "language": "python",
   "name": "python3"
  },
  "language_info": {
   "codemirror_mode": {
    "name": "ipython",
    "version": 3
   },
   "file_extension": ".py",
   "mimetype": "text/x-python",
   "name": "python",
   "nbconvert_exporter": "python",
   "pygments_lexer": "ipython3",
   "version": "3.7.9"
  }
 },
 "nbformat": 4,
 "nbformat_minor": 4
}
