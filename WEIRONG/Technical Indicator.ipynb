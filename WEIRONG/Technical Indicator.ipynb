{
 "cells": [
  {
   "cell_type": "code",
   "execution_count": 17,
   "metadata": {},
   "outputs": [],
   "source": [
    "from pathlib import Path\n",
    "import pandas as pd\n",
    "import numpy as np\n",
    "import stockstats"
   ]
  },
  {
   "cell_type": "code",
   "execution_count": 18,
   "metadata": {},
   "outputs": [],
   "source": [
    "file_path = Path('Resources/stock_data_csv.csv')\n",
    "df=pd.read_csv(file_path,index_col=\"date_time\")"
   ]
  },
  {
   "cell_type": "code",
   "execution_count": 19,
   "metadata": {},
   "outputs": [],
   "source": [
    "gme=df[[\"gme_px\",\"gme_vol\",\"spy_px\"]]\n",
    "gme=pd.DataFrame(gme)\n",
    "gme.rename(columns={\"gme_px\":\"close\",\"gme_vol\":\"vol\",\"spy_px\":\"spy\"},inplace=True)"
   ]
  },
  {
   "cell_type": "code",
   "execution_count": 20,
   "metadata": {},
   "outputs": [],
   "source": [
    "amc=df[[\"amc_px\",\"amc_vol\",\"spy_px\"]]\n",
    "amc=pd.DataFrame(amc)\n",
    "amc.rename(columns={\"amc_px\":\"close\",\"amc_vol\":\"vol\",\"spy_px\":\"spy\"},inplace=True)"
   ]
  },
  {
   "cell_type": "code",
   "execution_count": 21,
   "metadata": {},
   "outputs": [],
   "source": [
    "bb=df[[\"bb_px\",\"bb_vol\",\"spy_px\"]]\n",
    "bb=pd.DataFrame(bb)\n",
    "bb.rename(columns={\"bb_px\":\"close\",\"bb_vol\":\"vol\",\"spy_px\":\"spy\"},inplace=True)"
   ]
  },
  {
   "cell_type": "code",
   "execution_count": 22,
   "metadata": {},
   "outputs": [],
   "source": [
    "bbby=df[[\"bbby_px\",\"bbby_vol\",\"spy_px\"]]\n",
    "bbby=pd.DataFrame(bbby)\n",
    "bbby.rename(columns={\"bbby_px\":\"close\",\"bbby_vol\":\"vol\",\"spy_px\":\"spy\"},inplace=True)"
   ]
  },
  {
   "cell_type": "code",
   "execution_count": 23,
   "metadata": {},
   "outputs": [],
   "source": [
    "nok=df[[\"nok_px\",\"nok_vol\",\"spy_px\"]]\n",
    "nok=pd.DataFrame(nok)\n",
    "nok.rename(columns={\"nok_px\":\"close\",\"nok_vol\":\"vol\",\"spy_px\":\"spy\"},inplace=True)"
   ]
  },
  {
   "cell_type": "code",
   "execution_count": 24,
   "metadata": {},
   "outputs": [],
   "source": [
    "def WR(stock,wr_period):\n",
    "    stock[\"max\"]=stock[\"close\"].rolling(window=wr_period).max()\n",
    "    stock[\"min\"]=stock[\"close\"].rolling(window=wr_period).min()\n",
    "    stock[\"shift\"]=stock[\"close\"].shift(1)\n",
    "    stock[\"WR\"]=((stock[\"shift\"]-stock[\"max\"])/(stock[\"max\"]-stock[\"min\"]))*100\n",
    "    stock.drop(columns=[\"max\",\"min\",\"shift\"],inplace=True)\n",
    "    return stock\n"
   ]
  },
  {
   "cell_type": "code",
   "execution_count": 25,
   "metadata": {},
   "outputs": [],
   "source": [
    "def RSI(stock,rsi_period):\n",
    "    chg = stock[\"close\"].diff(1)\n",
    "    stock[\"gain\"] = chg.mask(chg<0,0)\n",
    "    stock[\"loss\"] = chg.mask(chg>0,0)\n",
    "    stock[\"avg_gain\"] = stock[\"gain\"].rolling(window=rsi_period).mean()\n",
    "    stock[\"avg_loss\"] = stock[\"loss\"].rolling(window=rsi_period).mean()\n",
    "\n",
    "    stock[\"rs\"]=abs(stock[\"avg_gain\"]/stock[\"avg_loss\"])\n",
    "    stock[\"RSI\"] = 100-(100/(1+stock[\"rs\"]))\n",
    "    stock.drop(columns=[\"gain\",\"loss\",\"avg_gain\",\"avg_loss\",\"rs\"],inplace=True)\n",
    "    return stock"
   ]
  },
  {
   "cell_type": "code",
   "execution_count": 26,
   "metadata": {},
   "outputs": [],
   "source": [
    "def Beta(stock,beta_period):\n",
    "    stock[\"return\"]=stock[\"close\"].pct_change()\n",
    "    stock[\"spy_return\"]=stock[\"spy\"].pct_change()    \n",
    "    stock[\"cov\"]=stock.rolling(window=beta_period).cov().unstack()[\"return\"][\"spy_return\"]\n",
    "    stock[\"var\"]=stock[\"spy_return\"].rolling(window=beta_period).var()\n",
    "    stock[\"Beta\"]=stock[\"cov\"]/stock[\"var\"]\n",
    "    stock.drop(columns=[\"spy_return\",\"cov\",\"var\"],inplace=True)\n",
    "    return stock"
   ]
  },
  {
   "cell_type": "code",
   "execution_count": 27,
   "metadata": {},
   "outputs": [],
   "source": [
    "def OBV(stock):\n",
    "    stock[\"chg\"]=stock[\"close\"].diff(1)\n",
    "    stock['up-down']= np.where(stock['chg']< 0, -1.0, 1.0)\n",
    "    stock[\"po-ne\"]=stock[\"vol\"]*stock[\"up-down\"]\n",
    "    stock[\"OBV\"]=stock[\"po-ne\"].cumsum()\n",
    "    stock.drop(columns=[\"chg\",\"up-down\",\"po-ne\"],inplace=True)\n",
    "    return stock"
   ]
  },
  {
   "cell_type": "code",
   "execution_count": 35,
   "metadata": {},
   "outputs": [],
   "source": [
    "Beta(gme,180)\n",
    "WR(gme,14)\n",
    "RSI(gme,14)\n",
    "OBV(gme)\n",
    "gme.to_csv('Results/GME.csv') "
   ]
  },
  {
   "cell_type": "code",
   "execution_count": 36,
   "metadata": {},
   "outputs": [],
   "source": [
    "Beta(amc,180)\n",
    "WR(amc,14)\n",
    "RSI(amc,14)\n",
    "OBV(amc)\n",
    "amc.to_csv('Results/AMC.csv') "
   ]
  },
  {
   "cell_type": "code",
   "execution_count": 37,
   "metadata": {},
   "outputs": [],
   "source": [
    "Beta(bb,180)\n",
    "WR(bb,14)\n",
    "RSI(bb,14)\n",
    "OBV(bb)\n",
    "bb.to_csv('Results/BB.csv') "
   ]
  },
  {
   "cell_type": "code",
   "execution_count": 38,
   "metadata": {},
   "outputs": [],
   "source": [
    "Beta(bbby,180)\n",
    "WR(bbby,14)\n",
    "RSI(bbby,14)\n",
    "OBV(bbby)\n",
    "bbby.to_csv('Results/BBBY.csv') "
   ]
  },
  {
   "cell_type": "code",
   "execution_count": 39,
   "metadata": {},
   "outputs": [],
   "source": [
    "Beta(nok,180)\n",
    "WR(nok,14)\n",
    "RSI(nok,14)\n",
    "OBV(nok)\n",
    "nok.to_csv('Results/NOK.csv') "
   ]
  },
  {
   "cell_type": "code",
   "execution_count": null,
   "metadata": {},
   "outputs": [],
   "source": []
  }
 ],
 "metadata": {
  "kernelspec": {
   "display_name": "Python [conda env:pyvizenv] *",
   "language": "python",
   "name": "conda-env-pyvizenv-py"
  },
  "language_info": {
   "codemirror_mode": {
    "name": "ipython",
    "version": 3
   },
   "file_extension": ".py",
   "mimetype": "text/x-python",
   "name": "python",
   "nbconvert_exporter": "python",
   "pygments_lexer": "ipython3",
   "version": "3.7.7"
  }
 },
 "nbformat": 4,
 "nbformat_minor": 4
}
